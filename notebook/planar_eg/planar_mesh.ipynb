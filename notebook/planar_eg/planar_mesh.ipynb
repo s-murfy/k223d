version https://git-lfs.github.com/spec/v1
oid sha256:a9432a3e65722038bbedbf7a6fa864e3fd4c863243fd70e91dc7a35e1d8ca0b9
size 15600589
