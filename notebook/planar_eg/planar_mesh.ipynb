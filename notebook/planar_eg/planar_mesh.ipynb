version https://git-lfs.github.com/spec/v1
oid sha256:91758f1192e0608209a996512539cce4443618dab2dfdff50ab9d2653eed89ec
size 12539
