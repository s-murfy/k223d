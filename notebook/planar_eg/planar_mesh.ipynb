{
 "cells": [
  {
   "cell_type": "markdown",
   "metadata": {},
   "source": [
    "# Create a planar mesh for use with k223d\n",
    "This notebook will:\n",
    "- show you how to generate a planar mesh\n",
    "- save in vtk format\n",
    "- run k223d code"
   ]
  },
  {
   "cell_type": "code",
   "execution_count": 19,
   "metadata": {},
   "outputs": [],
   "source": [
    "# systems operations\n",
    "import sys\n",
    "import os\n",
    "\n",
    "# numerical operations \n",
    "# import numpy as np\n",
    "\n",
    "\n",
    "# for running k223d\n",
    "import subprocess\n",
    "\n",
    "# track time of k223d\n",
    "import time\n",
    "\n",
    "# # for meshing \n",
    "# import gmsh\n",
    "import meshio\n",
    "\n",
    "#plotting mesh \n",
    "# import plotly.express as px\n",
    "# import plotly.graph_objs as go\n"
   ]
  },
  {
   "cell_type": "markdown",
   "metadata": {},
   "source": [
    "### Parameters"
   ]
  },
  {
   "cell_type": "code",
   "execution_count": 2,
   "metadata": {},
   "outputs": [],
   "source": [
    "kilo = 1000"
   ]
  },
  {
   "cell_type": "markdown",
   "metadata": {},
   "source": [
    "### Custom Python modules"
   ]
  },
  {
   "cell_type": "code",
   "execution_count": 3,
   "metadata": {},
   "outputs": [],
   "source": [
    "folder_path = '../local_py_scripts'\n",
    "sys.path.append(folder_path)\n",
    "from plotting import *\n",
    "from notebook_utils import *\n",
    "from fault_scaling import *"
   ]
  },
  {
   "cell_type": "markdown",
   "metadata": {},
   "source": [
    "## Fault parameters"
   ]
  },
  {
   "cell_type": "code",
   "execution_count": 4,
   "metadata": {},
   "outputs": [
    {
     "name": "stdout",
     "output_type": "stream",
     "text": [
      "Width of fault(km)...: 20.0\n",
      "Length of fault based on width and scaling relationship(km)...: 77.08502264747791\n"
     ]
    }
   ],
   "source": [
    "Mw = 7\n",
    "target_area = mag2area(Mw,\"Strasser\")\n",
    "\n",
    "Fwidth = 20*kilo\n",
    "print('Width of fault(km)...:',Fwidth/kilo) \n",
    "\n",
    "Flength =  target_area/Fwidth # 30*kilo\n",
    "print('Length of fault based on width and scaling relationship(km)...:',Flength/kilo) \n",
    "Fdip = 30.0*np.pi/180.\n",
    "\n",
    "lcar = 1.*kilo  # resolution on the fault \n",
    "rupt_vel = 2000. # constant rupture velocity in m/s  \n",
    "# rupt_grad = 0.25   # m/s\n",
    "\n",
    "\n",
    "# nucleation of fault is at the centre of the fault \n",
    "nuc_y = Flength/2\n",
    "nuc_x = Fwidth*np.cos(Fdip)/2\n",
    "\n"
   ]
  },
  {
   "cell_type": "markdown",
   "metadata": {},
   "source": [
    "# Mesh fault using Gmsh"
   ]
  },
  {
   "cell_type": "code",
   "execution_count": 4,
   "metadata": {},
   "outputs": [],
   "source": [
    "def mesh_planar_fault(Flength,Fwidth,Fdip,lcar,file_name):\n",
    "    gmsh.initialize()\n",
    "    gmsh.clear() \n",
    "# add points delineating the top (fault trace) and bottom of the fault \n",
    "    gmsh.model.geo.addPoint( 0, 0, 0, lcar, 0)\n",
    "    gmsh.model.geo.addPoint( 0, Flength, 0, lcar, 1)\n",
    "    gmsh.model.geo.addPoint( Fwidth*np.cos(Fdip), Flength, -Fwidth*np.sin(Fdip), lcar, 2)\n",
    "    gmsh.model.geo.addPoint( Fwidth*np.cos(Fdip), 0, -Fwidth*np.sin(Fdip), lcar, 3)\n",
    "# joint the points together to turn the fault into segments that will be meshed\n",
    "    gmsh.model.geo.addLine(0, 1, 0)\n",
    "    gmsh.model.geo.addLine(1, 2, 1)\n",
    "    gmsh.model.geo.addLine(2, 3, 2)\n",
    "    gmsh.model.geo.addLine(3, 0, 3)\n",
    "# curve loop\n",
    "    gmsh.model.geo.addCurveLoop([0, 1, 2, 3], 1)\n",
    "    gmsh.model.geo.addPlaneSurface([1], 1)\n",
    "\n",
    "    gmsh.model.geo.synchronize()\n",
    "    gmsh.model.mesh.generate(3)   # put as 3 as we are generating a 3d mesh\n",
    "\n",
    "# write results to file \n",
    "    gmsh.write(file_name+\".vtk\")   \n",
    "    gmsh.write(file_name+\".msh\")      \n",
    "    \n",
    "# Finalize Gmsh\n",
    "    gmsh.finalize()       "
   ]
  },
  {
   "cell_type": "code",
   "execution_count": 5,
   "metadata": {},
   "outputs": [
    {
     "name": "stdout",
     "output_type": "stream",
     "text": [
      "Info    : Clearing all models and views...\n",
      "Info    : Done clearing all models and views\n",
      "Info    : Meshing 1D...\n",
      "Info    : [  0%] Meshing curve 0 (Line)\n",
      "Info    : [ 30%] Meshing curve 1 (Line)\n",
      "Info    : [ 50%] Meshing curve 2 (Line)\n",
      "Info    : [ 80%] Meshing curve 3 (Line)\n",
      "Info    : Done meshing 1D (Wall 0.00149117s, CPU 0.000564s)\n",
      "Info    : Meshing 2D...\n",
      "Info    : Meshing surface 1 (Plane, Frontal-Delaunay)\n",
      "Info    : Done meshing 2D (Wall 0.0687707s, CPU 0.060103s)\n",
      "Info    : Meshing 3D...\n",
      "Info    : Done meshing 3D (Wall 0.000412917s, CPU 4.4e-05s)\n",
      "Info    : 1948 nodes 3898 elements\n",
      "Info    : Writing 'planar_mesh.vtk'...\n",
      "Info    : Done writing 'planar_mesh.vtk'\n",
      "Info    : Writing 'planar_mesh.msh'...\n",
      "Info    : Done writing 'planar_mesh.msh'\n"
     ]
    }
   ],
   "source": [
    "mesh_planar_fault(Flength,Fwidth,Fdip,lcar,'planar_mesh')"
   ]
  },
  {
   "cell_type": "markdown",
   "metadata": {},
   "source": [
    "## Extract mesh and add additional fields"
   ]
  },
  {
   "cell_type": "code",
   "execution_count": 6,
   "metadata": {},
   "outputs": [
    {
     "name": "stdout",
     "output_type": "stream",
     "text": [
      "Info    : Reading 'planar_mesh.msh'...\n",
      "Info    : 9 entities\n",
      "Info    : 1948 nodes\n",
      "Info    : 3898 elements\n",
      "Info    : Done reading 'planar_mesh.msh'\n",
      "number of nodes      1948\n",
      "number of elements     3698\n"
     ]
    }
   ],
   "source": [
    "x,y,z,cells = extract_mesh('planar_mesh.msh')\n",
    "\n",
    "ncells = len(cells)\n",
    "cell_type = np.zeros(ncells,dtype=int)\n",
    "cell_vel = np.zeros(ncells,dtype=float)"
   ]
  },
  {
   "cell_type": "code",
   "execution_count": null,
   "metadata": {},
   "outputs": [],
   "source": [
    "points = np.transpose([x,y,z])\n",
    "plot_mesh(cells,points)"
   ]
  },
  {
   "cell_type": "markdown",
   "metadata": {},
   "source": [
    "## Add velocity to mesh"
   ]
  },
  {
   "cell_type": "code",
   "execution_count": 8,
   "metadata": {},
   "outputs": [],
   "source": [
    "# set velocity for each cell to a constant value \n",
    "\n",
    "cell_vel = np.zeros(ncells)\n",
    "cell_vel[:] = rupt_vel\n",
    "# for i in range(n_ncells):\n",
    "#     c_id = new_cells[i]\n",
    "#     # use the mean depth of each cell\n",
    "#     mean_depth = np.abs(np.mean(new_z[c_id]))   \n",
    "#     cell_vel[i] = rupt_vel  + rupt_grad*(mean_depth) "
   ]
  },
  {
   "cell_type": "code",
   "execution_count": null,
   "metadata": {},
   "outputs": [],
   "source": [
    "plot_mesh_cell(cells,points,cell_vel,'velocity')"
   ]
  },
  {
   "cell_type": "markdown",
   "metadata": {},
   "source": [
    "### Assign initial travel time \n",
    "To decide where to pick for the earthquake we plot with plotly\n"
   ]
  },
  {
   "cell_type": "code",
   "execution_count": 10,
   "metadata": {},
   "outputs": [
    {
     "name": "stdout",
     "output_type": "stream",
     "text": [
      "Source is in cell 1980\n",
      "Initial travel time on starting cell edges: [0.39926891 0.16292887 0.27075039]\n"
     ]
    }
   ],
   "source": [
    "itime = assign_nucleation_location(nuc_x,nuc_y,x,y,z,cells,cell_vel)\n"
   ]
  },
  {
   "cell_type": "code",
   "execution_count": null,
   "metadata": {},
   "outputs": [],
   "source": [
    "plot_mesh_node(cells,points,itime,'initial time')"
   ]
  },
  {
   "cell_type": "markdown",
   "metadata": {},
   "source": [
    "## Asign surface rupture "
   ]
  },
  {
   "cell_type": "code",
   "execution_count": 12,
   "metadata": {},
   "outputs": [
    {
     "name": "stdout",
     "output_type": "stream",
     "text": [
      "fault depth range (m):     -9999.999999999998 0.0\n"
     ]
    }
   ],
   "source": [
    "print('fault depth range (m):    ',np.min(z),np.max(z))"
   ]
  },
  {
   "cell_type": "code",
   "execution_count": 13,
   "metadata": {},
   "outputs": [
    {
     "name": "stdout",
     "output_type": "stream",
     "text": [
      "number of surface nodes..... 79\n"
     ]
    }
   ],
   "source": [
    "# set surface rupture depth \n",
    "surface_depth = 0.0 \n",
    "nnodes = len(z)\n",
    "surface_nodes =  np.zeros(nnodes,dtype=int)\n",
    "for i in range(nnodes):\n",
    "    if z[i] >= surface_depth:\n",
    "        surface_nodes[i] = 1\n",
    "print('number of surface nodes.....',np.sum(surface_nodes))"
   ]
  },
  {
   "cell_type": "code",
   "execution_count": null,
   "metadata": {},
   "outputs": [],
   "source": [
    "plot_highlight_nodes(cells,points,surface_nodes,'surface nodes')\n"
   ]
  },
  {
   "cell_type": "markdown",
   "metadata": {},
   "source": [
    "# Output mesh for k223d"
   ]
  },
  {
   "cell_type": "code",
   "execution_count": 15,
   "metadata": {},
   "outputs": [],
   "source": [
    "mesh_file = 'input.vtk'\n",
    "write_vtk(mesh_file,points,cells,cell_vel,itime,surface_nodes)"
   ]
  },
  {
   "cell_type": "markdown",
   "metadata": {},
   "source": [
    "# Prepare input file \n",
    "\n",
    "Make changes to inputfile \n",
    "specify : \n",
    "1) earthquake size,\n",
    "2) name of the file containing the mesh\n",
    "3) name of the output file  \n"
   ]
  },
  {
   "cell_type": "code",
   "execution_count": 20,
   "metadata": {},
   "outputs": [],
   "source": [
    "file_path = 'input_file'\n",
    "\n",
    "updates = {\n",
    "    'magnitude':Mw,\n",
    "    'mesh_file':mesh_file,\n",
    "    'out_file':'prova_planar'\n",
    "}\n",
    "\n",
    "update_inputfile(file_path, updates)"
   ]
  },
  {
   "cell_type": "markdown",
   "metadata": {},
   "source": [
    "## Run k223d"
   ]
  },
  {
   "cell_type": "code",
   "execution_count": 21,
   "metadata": {},
   "outputs": [
    {
     "name": "stdout",
     "output_type": "stream",
     "text": [
      " In single use mode\n",
      " enter read_vtk_mesh\n",
      " No. of nodes....        1948\n",
      " no. of cells........         3698\n",
      " number of nucleation nodes found...           3\n",
      "         365         367         368\n",
      " nucleation cell id:             1981\n",
      " fault  surface found\n",
      " no. of surface nodes:               79\n",
      " exit read_vtk_mesh\n",
      " starting allocation\n",
      " create FVsNodes\n",
      " start EToE\n",
      " starting trilateration.....\n",
      " exiting based on fast protocol ....\n",
      "6.082401990890503\n"
     ]
    }
   ],
   "source": [
    "# call k223d and print elapsed time\n",
    "start=time.time()\n",
    "subprocess.call([\"../../code/k223d.x\"])\n",
    "end=time.time()\n",
    "print(end-start)"
   ]
  },
  {
   "cell_type": "markdown",
   "metadata": {},
   "source": [
    "## Read in Results and plot"
   ]
  },
  {
   "cell_type": "code",
   "execution_count": 22,
   "metadata": {},
   "outputs": [],
   "source": [
    "res = meshio.read(\"prova_planar.vtk\")\n",
    "tri = res.get_cells_type(\"triangle\")\n",
    "# X = res.points[:,0];Y = res.points[:,1];Z = res.points[:,2]\n",
    "\n",
    "a = np.array(res.cell_data['vel'])\n",
    "res_vel = a.flatten('F')\n",
    "\n",
    "a = np.array(res.cell_data['slip'])\n",
    "res_slip = a.flatten('F')\n",
    "\n",
    "a = np.array(res.point_data['Rupt_time'])\n",
    "res_time = a.flatten('F')"
   ]
  },
  {
   "cell_type": "code",
   "execution_count": null,
   "metadata": {},
   "outputs": [],
   "source": [
    "plot_mesh_node(tri,res.points,res_time,'Rupture Time (s)')"
   ]
  },
  {
   "cell_type": "code",
   "execution_count": null,
   "metadata": {},
   "outputs": [],
   "source": [
    "plot_mesh_cell(tri,res.points,res_slip,'slip (m)')"
   ]
  }
 ],
 "metadata": {
  "kernelspec": {
   "display_name": "haz-map",
   "language": "python",
   "name": "python3"
  },
  "language_info": {
   "codemirror_mode": {
    "name": "ipython",
    "version": 3
   },
   "file_extension": ".py",
   "mimetype": "text/x-python",
   "name": "python",
   "nbconvert_exporter": "python",
   "pygments_lexer": "ipython3",
   "version": "3.12.0"
  }
 },
 "nbformat": 4,
 "nbformat_minor": 2
}
