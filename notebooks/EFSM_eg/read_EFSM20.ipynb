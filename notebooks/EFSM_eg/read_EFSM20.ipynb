{
 "cells": [
  {
   "cell_type": "markdown",
   "metadata": {},
   "source": [
    "#  Generating slip on fault planes from the European Fault-Source Model 2020 (EFSM20) database\n",
    "This notebook will show you how to:\n",
    "- import a mesh file from the [EFSM20 database](https://seismofaults.eu/efsm20)\n",
    "- re-mesh the fault plane at a higher resolution  \n",
    "- generate input files for _k223d_ (i.e. set nucleation location, rupture velocity, surface rupture)\n",
    "- running _k223d_\n",
    "- image rupture front and slip distribution \n",
    "- create an output file that can be read in QGis "
   ]
  },
  {
   "cell_type": "code",
   "execution_count": 4,
   "metadata": {},
   "outputs": [],
   "source": [
    "import numpy as np\n",
    "import pandas as pd\n",
    "\n",
    "import sys\n",
    "\n",
    "# Mesh wrangling \n",
    "import gmsh\n",
    "import meshio\n",
    "\n",
    "# for running k223d\n",
    "import subprocess\n",
    "\n",
    "# track time of process\n",
    "import time\n",
    "\n",
    "# read in EFSM data set\n",
    "import geopandas as gpd\n",
    "import json\n",
    "from geojson import Feature, FeatureCollection, Polygon, Point\n",
    "\n",
    "# convert from Geographical coordinates \n",
    "import pyproj\n",
    "\n",
    "#plotting mesh \n",
    "import plotly.graph_objs as go\n",
    "import plotly.express as px\n"
   ]
  },
  {
   "cell_type": "markdown",
   "metadata": {},
   "source": [
    "## Set Parameters and subroutines used in notebook"
   ]
  },
  {
   "cell_type": "code",
   "execution_count": 5,
   "metadata": {},
   "outputs": [],
   "source": [
    "kilo = 1000."
   ]
  },
  {
   "cell_type": "markdown",
   "metadata": {},
   "source": [
    "### Custom Python modules"
   ]
  },
  {
   "cell_type": "code",
   "execution_count": 6,
   "metadata": {},
   "outputs": [],
   "source": [
    "folder_path = '../local_py_scripts'\n",
    "sys.path.append(folder_path)\n",
    "from plotting import *\n",
    "from notebook_utils import *\n",
    "from fault_scaling import *"
   ]
  },
  {
   "cell_type": "markdown",
   "metadata": {},
   "source": [
    "## Import EFSM fault from database \n",
    "A full description of the database and how to reference it can be found at: https://seismofaults.eu/efsm20 \n"
   ]
  },
  {
   "cell_type": "code",
   "execution_count": 7,
   "metadata": {},
   "outputs": [],
   "source": [
    "gdf = gpd.read_file('ITCF02R.json')\n"
   ]
  },
  {
   "cell_type": "code",
   "execution_count": 8,
   "metadata": {},
   "outputs": [
    {
     "name": "stdout",
     "output_type": "stream",
     "text": [
      "No of Nodes :    36\n",
      "No of cells:   49\n"
     ]
    }
   ],
   "source": [
    "# first extract the nodes and array linking nodes to cells entitled 'cells'\n",
    "nodes, cells = extract_fault_data(gdf)\n",
    "ncells = len(cells)\n",
    "nnodes = len(nodes)\n",
    "print(\"No of Nodes :   \",nnodes)\n",
    "print(\"No of cells:  \",ncells)\n"
   ]
  },
  {
   "cell_type": "markdown",
   "metadata": {},
   "source": [
    "## Earthquake of interest"
   ]
  },
  {
   "cell_type": "markdown",
   "metadata": {},
   "source": [
    "We will take the $M_w 6.5$   Earthquake that occured in Norcia on 30/10/2016\n",
    "\n",
    "Details for the event can be found at : https://terremoti.ingv.it/en/event/8863681\n"
   ]
  },
  {
   "cell_type": "code",
   "execution_count": 9,
   "metadata": {},
   "outputs": [],
   "source": [
    "quake_lat = 42.83\n",
    "quake_long = 13.109\n",
    "quake_z = -10*kilo\n",
    "quake_name = ['Norcia']\n",
    "Mw = 6.5"
   ]
  },
  {
   "cell_type": "code",
   "execution_count": null,
   "metadata": {},
   "outputs": [],
   "source": [
    "scale = kilo*10\n",
    "points = np.transpose([nodes[:,0], nodes[:,1],nodes[:,2]/scale]) \n",
    "plot_mesh_quake(cells,points,quake_lat,quake_long,quake_z/scale)\n"
   ]
  },
  {
   "cell_type": "markdown",
   "metadata": {},
   "source": [
    "## Convert from Lat/Lon to UTM "
   ]
  },
  {
   "cell_type": "code",
   "execution_count": 11,
   "metadata": {},
   "outputs": [
    {
     "name": "stdout",
     "output_type": "stream",
     "text": [
      "UTM Zone:      33\n"
     ]
    }
   ],
   "source": [
    "utm_zone = str(int(np.floor((np.mean(nodes[:,1])  + 180) / 6 ) % 60) + 1)\n",
    "if len(utm_zone) == 1:\n",
    "    utm_zone = '0'+utm_zone\n",
    "print('UTM Zone:     ',utm_zone)\n"
   ]
  },
  {
   "cell_type": "code",
   "execution_count": 12,
   "metadata": {},
   "outputs": [],
   "source": [
    "# Parameters use in the script\n",
    "# the first two relate to the converting lat/lon to utm and a geodesic distance\n",
    "P = pyproj.Proj(proj='utm', zone=utm_zone, ellps='WGS84', preserve_units=True)    # took utm "
   ]
  },
  {
   "cell_type": "code",
   "execution_count": 13,
   "metadata": {},
   "outputs": [],
   "source": [
    "# convert fault coordinates to UTM coordinates \n",
    "# NOTE: all coorindates are set relative to the first nodal point in the mesh\n",
    "#       is this useful? there could be difficulty converting the mesh back to \n",
    "#       geographical coordinates afterwards\n",
    "UTM_x, UTM_y = P(nodes[:,1], nodes[:,0])\n",
    "ref_x = 0. # UTM_x[0]\n",
    "ref_y = 0. # UTM_y[0]\n",
    "UTM_x = np.array(UTM_x)#-ref_x\n",
    "UTM_y = np.array(UTM_y)#-ref_y"
   ]
  },
  {
   "cell_type": "code",
   "execution_count": 14,
   "metadata": {},
   "outputs": [],
   "source": [
    "# convert fault epicentre to UTM coordinates and use same reference for origin\n",
    "quake_x, quake_y = P(quake_long,quake_lat)\n",
    "#quake_x = quake_x-ref_x\n",
    "#quake_y = quake_y-ref_y"
   ]
  },
  {
   "cell_type": "code",
   "execution_count": null,
   "metadata": {},
   "outputs": [],
   "source": [
    "points = np.transpose([UTM_x,UTM_y,nodes[:,2]]) \n",
    "plot_mesh_quake(cells,points,quake_x,quake_y,quake_z)"
   ]
  },
  {
   "cell_type": "code",
   "execution_count": 16,
   "metadata": {},
   "outputs": [],
   "source": [
    "# If you just want to plot the mesh without the earthquake\n",
    "# plot_mesh(cells,UTM_x,UTM_y,nodes[:,2])"
   ]
  },
  {
   "cell_type": "markdown",
   "metadata": {},
   "source": [
    "Get an idea of area of cells on the mesh by calculating it's area"
   ]
  },
  {
   "cell_type": "code",
   "execution_count": 17,
   "metadata": {},
   "outputs": [
    {
     "name": "stdout",
     "output_type": "stream",
     "text": [
      "the largest earthquake possible on fault (Mw):    6.769684239799037\n",
      "total number of cells:    49\n",
      "mean distance along side of cell is:    5.2874953587633815 km\n"
     ]
    }
   ],
   "source": [
    "tri_area = tri_area_3d(points[cells])\n",
    "ave_cell_area = np.mean(tri_area)\n",
    "total_area = np.sum(tri_area)\n",
    "edge_dist = tri_dist(points[cells])\n",
    "ave_dist = np.mean(edge_dist)/kilo\n",
    "\n",
    "\n",
    "max_mag = area2mag(total_area,'Strasser')\n",
    "print(\"the largest earthquake possible on fault (Mw):   \",max_mag)\n",
    "print(\"total number of cells:   \",ncells)\n",
    "print(\"mean distance along side of cell is:   \",ave_dist,'km')"
   ]
  },
  {
   "cell_type": "code",
   "execution_count": 18,
   "metadata": {},
   "outputs": [
    {
     "name": "stdout",
     "output_type": "stream",
     "text": [
      "assume right angle (with two sides the average)..... 13.97880358447215\n",
      "assume equilateral triangle..... 12.105999018665852\n"
     ]
    }
   ],
   "source": [
    "print('assume right angle (with two sides the average).....',1/2*ave_dist**2)\n",
    "\n",
    "print('assume equilateral triangle.....',np.sqrt(3)/4*ave_dist**2)\n"
   ]
  },
  {
   "cell_type": "markdown",
   "metadata": {},
   "source": [
    "How does this compare with the earthquake size we want to reproduce?\n",
    "- the mag2area assumes that the magnitude is given as a magnitude and not a moment"
   ]
  },
  {
   "cell_type": "code",
   "execution_count": 19,
   "metadata": {},
   "outputs": [
    {
     "name": "stdout",
     "output_type": "stream",
     "text": [
      "Area of earthquake: 515.2286445817562 km^2\n",
      "total size of fault surface:    565.694353368649 km^2\n",
      "mean cell are:    11.544782721809163 km^2\n",
      "No. of cells for rupture: 44\n"
     ]
    }
   ],
   "source": [
    "# Mw = 6.0\n",
    "target_area = mag2area(Mw,\"Strasser\")\n",
    "print('Area of earthquake:',target_area/kilo**2,'km^2')\n",
    "print(\"total size of fault surface:   \",np.sum(tri_area)/kilo**2,'km^2')\n",
    "print(\"mean cell are:   \",ave_cell_area/kilo**2,'km^2')\n",
    "\n",
    "print('No. of cells for rupture:',  int(target_area/ave_cell_area))"
   ]
  },
  {
   "cell_type": "code",
   "execution_count": 20,
   "metadata": {},
   "outputs": [
    {
     "name": "stdout",
     "output_type": "stream",
     "text": [
      "Aim to have cells with the following average area of.....: 0.25761432229087805 km^2\n",
      "The current average area is ....: 11.544782721809163 km^2\n"
     ]
    }
   ],
   "source": [
    "target_no_cells = 2000\n",
    "target_cell_area = (target_area/target_no_cells)\n",
    "print('Aim to have cells with the following average area of.....:',target_cell_area/kilo**2,'km^2')\n",
    "print('The current average area is ....:',ave_cell_area/kilo**2,'km^2')"
   ]
  },
  {
   "cell_type": "markdown",
   "metadata": {},
   "source": [
    "Assuming that the triangles are equilateral, we rearrange the area for triangle: \n",
    "$$ A = \\frac{\\sqrt{3}}{4} l^2$$\n",
    "to calculate the length ,$l$, of one edge"
   ]
  },
  {
   "cell_type": "code",
   "execution_count": 21,
   "metadata": {},
   "outputs": [
    {
     "name": "stdout",
     "output_type": "stream",
     "text": [
      "This is the target average length of a cell edge..... 771 m\n"
     ]
    }
   ],
   "source": [
    "target_edge = np.sqrt(target_cell_area*4./np.sqrt(3))   # assume triangles are \n",
    "print('This is the target average length of a cell edge.....',int(target_edge),'m')"
   ]
  },
  {
   "cell_type": "markdown",
   "metadata": {},
   "source": [
    "## Refine mesh in Gmsh"
   ]
  },
  {
   "cell_type": "code",
   "execution_count": 22,
   "metadata": {},
   "outputs": [
    {
     "name": "stdout",
     "output_type": "stream",
     "text": [
      "Info    : Clearing all models and views...\n",
      "Info    : Done clearing all models and views\n",
      "Info    : Meshing 1D...\n",
      "Info    : [  0%] Meshing curve 1 (Line)\n",
      "Info    : [ 10%] Meshing curve 2 (Line)\n",
      "Info    : [ 10%] Meshing curve 3 (Line)\n",
      "Info    : [ 10%] Meshing curve 4 (Line)\n",
      "Info    : [ 10%] Meshing curve 5 (Line)\n",
      "Info    : [ 10%] Meshing curve 6 (Line)\n",
      "Info    : [ 10%] Meshing curve 7 (Line)\n",
      "Info    : [ 10%] Meshing curve 8 (Line)\n",
      "Info    : [ 10%] Meshing curve 9 (Line)\n",
      "Info    : [ 10%] Meshing curve 10 (Line)\n",
      "Info    : [ 10%] Meshing curve 11 (Line)\n",
      "Info    : [ 10%] Meshing curve 12 (Line)\n",
      "Info    : [ 10%] Meshing curve 13 (Line)\n",
      "Info    : [ 10%] Meshing curve 14 (Line)\n",
      "Info    : [ 10%] Meshing curve 15 (Line)\n",
      "Info    : [ 20%] Meshing curve 16 (Line)\n",
      "Info    : [ 20%] Meshing curve 17 (Line)\n",
      "Info    : [ 20%] Meshing curve 18 (Line)\n",
      "Info    : [ 20%] Meshing curve 19 (Line)\n",
      "Info    : [ 20%] Meshing curve 20 (Line)\n",
      "Info    : [ 20%] Meshing curve 21 (Line)\n",
      "Info    : [ 20%] Meshing curve 22 (Line)\n",
      "Info    : [ 20%] Meshing curve 23 (Line)\n",
      "Info    : [ 20%] Meshing curve 24 (Line)\n",
      "Info    : [ 20%] Meshing curve 25 (Line)\n",
      "Info    : [ 20%] Meshing curve 26 (Line)\n",
      "Info    : [ 20%] Meshing curve 27 (Line)\n",
      "Info    : [ 20%] Meshing curve 28 (Line)\n",
      "Info    : [ 20%] Meshing curve 29 (Line)\n",
      "Info    : [ 20%] Meshing curve 30 (Line)\n",
      "Info    : [ 30%] Meshing curve 31 (Line)\n",
      "Info    : [ 30%] Meshing curve 32 (Line)\n",
      "Info    : [ 30%] Meshing curve 33 (Line)\n",
      "Info    : [ 30%] Meshing curve 34 (Line)\n",
      "Info    : [ 30%] Meshing curve 35 (Line)\n",
      "Info    : [ 30%] Meshing curve 36 (Line)\n",
      "Info    : [ 30%] Meshing curve 37 (Line)\n",
      "Info    : [ 30%] Meshing curve 38 (Line)\n",
      "Info    : [ 30%] Meshing curve 39 (Line)\n",
      "Info    : [ 30%] Meshing curve 40 (Line)\n",
      "Info    : [ 30%] Meshing curve 41 (Line)\n",
      "Info    : [ 30%] Meshing curve 42 (Line)\n",
      "Info    : [ 30%] Meshing curve 43 (Line)\n",
      "Info    : [ 30%] Meshing curve 44 (Line)\n",
      "Info    : [ 30%] Meshing curve 45 (Line)\n",
      "Info    : [ 40%] Meshing curve 46 (Line)\n",
      "Info    : [ 40%] Meshing curve 47 (Line)\n",
      "Info    : [ 40%] Meshing curve 48 (Line)\n",
      "Info    : [ 40%] Meshing curve 49 (Line)\n",
      "Info    : [ 40%] Meshing curve 50 (Line)\n",
      "Info    : [ 40%] Meshing curve 51 (Line)\n",
      "Info    : [ 40%] Meshing curve 52 (Line)\n",
      "Info    : [ 40%] Meshing curve 53 (Line)\n",
      "Info    : [ 40%] Meshing curve 54 (Line)\n",
      "Info    : [ 40%] Meshing curve 55 (Line)\n",
      "Info    : [ 40%] Meshing curve 56 (Line)\n",
      "Info    : [ 40%] Meshing curve 57 (Line)\n",
      "Info    : [ 40%] Meshing curve 58 (Line)\n",
      "Info    : [ 40%] Meshing curve 59 (Line)\n",
      "Info    : [ 50%] Meshing curve 60 (Line)\n",
      "Info    : [ 50%] Meshing curve 61 (Line)\n",
      "Info    : [ 50%] Meshing curve 62 (Line)\n",
      "Info    : [ 50%] Meshing curve 63 (Line)\n",
      "Info    : [ 50%] Meshing curve 64 (Line)\n",
      "Info    : [ 50%] Meshing curve 65 (Line)\n",
      "Info    : [ 50%] Meshing curve 66 (Line)\n",
      "Info    : [ 50%] Meshing curve 67 (Line)\n",
      "Info    : [ 50%] Meshing curve 68 (Line)\n",
      "Info    : [ 50%] Meshing curve 69 (Line)\n",
      "Info    : [ 50%] Meshing curve 70 (Line)\n",
      "Info    : [ 50%] Meshing curve 71 (Line)\n",
      "Info    : [ 50%] Meshing curve 72 (Line)\n",
      "Info    : [ 50%] Meshing curve 73 (Line)\n",
      "Info    : [ 50%] Meshing curve 74 (Line)\n",
      "Info    : [ 60%] Meshing curve 75 (Line)\n",
      "Info    : [ 60%] Meshing curve 76 (Line)\n",
      "Info    : [ 60%] Meshing curve 77 (Line)\n",
      "Info    : [ 60%] Meshing curve 78 (Line)\n",
      "Info    : [ 60%] Meshing curve 79 (Line)\n",
      "Info    : [ 60%] Meshing curve 80 (Line)\n",
      "Info    : [ 60%] Meshing curve 81 (Line)\n",
      "Info    : [ 60%] Meshing curve 82 (Line)\n",
      "Info    : [ 60%] Meshing curve 83 (Line)\n",
      "Info    : [ 60%] Meshing curve 84 (Line)\n",
      "Info    : [ 60%] Meshing curve 85 (Line)\n",
      "Info    : [ 60%] Meshing curve 86 (Line)\n",
      "Info    : [ 60%] Meshing curve 87 (Line)\n",
      "Info    : [ 60%] Meshing curve 88 (Line)\n",
      "Info    : [ 60%] Meshing curve 89 (Line)\n",
      "Info    : [ 70%] Meshing curve 90 (Line)\n",
      "Info    : [ 70%] Meshing curve 91 (Line)\n",
      "Info    : [ 70%] Meshing curve 92 (Line)\n",
      "Info    : [ 70%] Meshing curve 93 (Line)\n",
      "Info    : [ 70%] Meshing curve 94 (Line)\n",
      "Info    : [ 70%] Meshing curve 95 (Line)\n",
      "Info    : [ 70%] Meshing curve 96 (Line)\n",
      "Info    : [ 70%] Meshing curve 97 (Line)\n",
      "Info    : [ 70%] Meshing curve 98 (Line)\n",
      "Info    : [ 70%] Meshing curve 99 (Line)\n",
      "Info    : [ 70%] Meshing curve 100 (Line)\n",
      "Info    : [ 70%] Meshing curve 101 (Line)\n",
      "Info    : [ 70%] Meshing curve 102 (Line)\n",
      "Info    : [ 70%] Meshing curve 103 (Line)\n",
      "Info    : [ 80%] Meshing curve 104 (Line)\n",
      "Info    : [ 80%] Meshing curve 105 (Line)\n",
      "Info    : [ 80%] Meshing curve 106 (Line)\n",
      "Info    : [ 80%] Meshing curve 107 (Line)\n",
      "Info    : [ 80%] Meshing curve 108 (Line)\n",
      "Info    : [ 80%] Meshing curve 109 (Line)\n",
      "Info    : [ 80%] Meshing curve 110 (Line)\n",
      "Info    : [ 80%] Meshing curve 111 (Line)\n",
      "Info    : [ 80%] Meshing curve 112 (Line)\n",
      "Info    : [ 80%] Meshing curve 113 (Line)\n",
      "Info    : [ 80%] Meshing curve 114 (Line)\n",
      "Info    : [ 80%] Meshing curve 115 (Line)\n",
      "Info    : [ 80%] Meshing curve 116 (Line)\n",
      "Info    : [ 80%] Meshing curve 117 (Line)\n",
      "Info    : [ 80%] Meshing curve 118 (Line)\n",
      "Info    : [ 90%] Meshing curve 119 (Line)\n",
      "Info    : [ 90%] Meshing curve 120 (Line)\n",
      "Info    : [ 90%] Meshing curve 121 (Line)\n",
      "Info    : [ 90%] Meshing curve 122 (Line)\n",
      "Info    : [ 90%] Meshing curve 123 (Line)\n",
      "Info    : [ 90%] Meshing curve 124 (Line)\n",
      "Info    : [ 90%] Meshing curve 125 (Line)\n",
      "Info    : [ 90%] Meshing curve 126 (Line)\n",
      "Info    : [ 90%] Meshing curve 127 (Line)\n",
      "Info    : [ 90%] Meshing curve 128 (Line)\n",
      "Info    : [ 90%] Meshing curve 129 (Line)\n",
      "Info    : [ 90%] Meshing curve 130 (Line)\n",
      "Info    : [ 90%] Meshing curve 131 (Line)\n",
      "Info    : [ 90%] Meshing curve 132 (Line)\n",
      "Info    : [ 90%] Meshing curve 133 (Line)\n",
      "Info    : [100%] Meshing curve 134 (Line)\n",
      "Info    : [100%] Meshing curve 135 (Line)\n",
      "Info    : [100%] Meshing curve 136 (Line)\n",
      "Info    : [100%] Meshing curve 137 (Line)\n",
      "Info    : [100%] Meshing curve 138 (Line)\n",
      "Info    : [100%] Meshing curve 139 (Line)\n",
      "Info    : [100%] Meshing curve 140 (Line)\n",
      "Info    : [100%] Meshing curve 141 (Line)\n",
      "Info    : [100%] Meshing curve 142 (Line)\n",
      "Info    : [100%] Meshing curve 143 (Line)\n",
      "Info    : [100%] Meshing curve 144 (Line)\n",
      "Info    : [100%] Meshing curve 145 (Line)\n",
      "Info    : [100%] Meshing curve 146 (Line)\n",
      "Info    : [100%] Meshing curve 147 (Line)\n",
      "Info    : Done meshing 1D (Wall 0.0164093s, CPU 0.014625s)\n",
      "Info    : Meshing 2D...\n",
      "Info    : [  0%] Meshing surface 1 (Plane, Frontal-Delaunay)\n",
      "Info    : [ 10%] Meshing surface 2 (Plane, Frontal-Delaunay)\n",
      "Info    : [ 10%] Meshing surface 3 (Plane, Frontal-Delaunay)\n",
      "Info    : [ 10%] Meshing surface 4 (Plane, Frontal-Delaunay)\n",
      "Info    : [ 10%] Meshing surface 5 (Plane, Frontal-Delaunay)\n",
      "Info    : [ 20%] Meshing surface 6 (Plane, Frontal-Delaunay)\n",
      "Info    : [ 20%] Meshing surface 7 (Plane, Frontal-Delaunay)\n",
      "Info    : [ 20%] Meshing surface 8 (Plane, Frontal-Delaunay)\n",
      "Info    : [ 20%] Meshing surface 9 (Plane, Frontal-Delaunay)\n",
      "Info    : [ 20%] Meshing surface 10 (Plane, Frontal-Delaunay)\n",
      "Info    : [ 30%] Meshing surface 11 (Plane, Frontal-Delaunay)\n",
      "Info    : [ 30%] Meshing surface 12 (Plane, Frontal-Delaunay)\n",
      "Info    : [ 30%] Meshing surface 13 (Plane, Frontal-Delaunay)\n",
      "Info    : [ 30%] Meshing surface 14 (Plane, Frontal-Delaunay)\n",
      "Info    : [ 30%] Meshing surface 15 (Plane, Frontal-Delaunay)\n",
      "Info    : [ 40%] Meshing surface 16 (Plane, Frontal-Delaunay)\n",
      "Info    : [ 40%] Meshing surface 17 (Plane, Frontal-Delaunay)\n",
      "Info    : [ 40%] Meshing surface 18 (Plane, Frontal-Delaunay)\n",
      "Info    : [ 40%] Meshing surface 19 (Plane, Frontal-Delaunay)\n",
      "Info    : [ 40%] Meshing surface 20 (Plane, Frontal-Delaunay)\n",
      "Info    : [ 50%] Meshing surface 21 (Plane, Frontal-Delaunay)\n",
      "Info    : [ 50%] Meshing surface 22 (Plane, Frontal-Delaunay)\n",
      "Info    : [ 50%] Meshing surface 23 (Plane, Frontal-Delaunay)\n",
      "Info    : [ 50%] Meshing surface 24 (Plane, Frontal-Delaunay)\n",
      "Info    : [ 50%] Meshing surface 25 (Plane, Frontal-Delaunay)\n",
      "Info    : [ 60%] Meshing surface 26 (Plane, Frontal-Delaunay)\n",
      "Info    : [ 60%] Meshing surface 27 (Plane, Frontal-Delaunay)\n",
      "Info    : [ 60%] Meshing surface 28 (Plane, Frontal-Delaunay)\n",
      "Info    : [ 60%] Meshing surface 29 (Plane, Frontal-Delaunay)\n",
      "Info    : [ 60%] Meshing surface 30 (Plane, Frontal-Delaunay)\n",
      "Info    : [ 70%] Meshing surface 31 (Plane, Frontal-Delaunay)\n",
      "Info    : [ 70%] Meshing surface 32 (Plane, Frontal-Delaunay)\n",
      "Info    : [ 70%] Meshing surface 33 (Plane, Frontal-Delaunay)\n",
      "Info    : [ 70%] Meshing surface 34 (Plane, Frontal-Delaunay)\n",
      "Info    : [ 70%] Meshing surface 35 (Plane, Frontal-Delaunay)\n",
      "Info    : [ 80%] Meshing surface 36 (Plane, Frontal-Delaunay)\n",
      "Info    : [ 80%] Meshing surface 37 (Plane, Frontal-Delaunay)\n",
      "Info    : [ 80%] Meshing surface 38 (Plane, Frontal-Delaunay)\n",
      "Info    : [ 80%] Meshing surface 39 (Plane, Frontal-Delaunay)\n",
      "Info    : [ 80%] Meshing surface 40 (Plane, Frontal-Delaunay)\n",
      "Info    : [ 90%] Meshing surface 41 (Plane, Frontal-Delaunay)\n",
      "Info    : [ 90%] Meshing surface 42 (Plane, Frontal-Delaunay)\n",
      "Info    : [ 90%] Meshing surface 43 (Plane, Frontal-Delaunay)\n",
      "Info    : [ 90%] Meshing surface 44 (Plane, Frontal-Delaunay)\n",
      "Info    : [ 90%] Meshing surface 45 (Plane, Frontal-Delaunay)\n",
      "Info    : [100%] Meshing surface 46 (Plane, Frontal-Delaunay)\n",
      "Info    : [100%] Meshing surface 47 (Plane, Frontal-Delaunay)\n",
      "Info    : [100%] Meshing surface 48 (Plane, Frontal-Delaunay)\n",
      "Info    : [100%] Meshing surface 49 (Plane, Frontal-Delaunay)\n",
      "Info    : Done meshing 2D (Wall 0.0485517s, CPU 0.04221s)\n",
      "Info    : 1783 nodes 3726 elements\n",
      "Info    : Optimizing mesh (Netgen)...\n",
      "Info    : Done optimizing mesh (Wall 3.169e-06s, CPU 4e-06s)\n",
      "Info    : Removing duplicate mesh nodes...\n",
      "Info    : Found 397 duplicate nodes \n",
      "Info    : Removed 397 duplicate mesh nodes\n",
      "Info    : Done removing duplicate mesh nodes\n",
      "Info    : Writing 'refined_mesh.vtk'...\n",
      "Info    : Done writing 'refined_mesh.vtk'\n",
      "Info    : Writing 'refined_mesh.msh'...\n",
      "Info    : Done writing 'refined_mesh.msh'\n"
     ]
    }
   ],
   "source": [
    "# remeshing fault, output is saved to file 'refined_mesh.vtk' viewable in paraview and 'refined_mesh.msh' which can be read by gmsh \n",
    "remesh_fault(points,cells,target_edge,'refined_mesh')"
   ]
  },
  {
   "cell_type": "markdown",
   "metadata": {},
   "source": [
    "## Extract mesh and check new cell size against target"
   ]
  },
  {
   "cell_type": "code",
   "execution_count": 23,
   "metadata": {},
   "outputs": [
    {
     "name": "stdout",
     "output_type": "stream",
     "text": [
      "Info    : Reading 'refined_mesh.msh'...\n",
      "Info    : 232 entities\n",
      "Info    : 1386 nodes\n",
      "Info    : 3726 elements\n",
      "Info    : Done reading 'refined_mesh.msh'\n",
      "number of nodes      1386\n",
      "number of elements     2621\n"
     ]
    }
   ],
   "source": [
    "new_x,new_y,new_z,new_cells = extract_mesh('refined_mesh.msh')\n",
    "\n",
    "n_ncells = len(new_cells)\n",
    "cell_type = np.zeros(n_ncells,dtype=int)\n",
    "cell_vel = np.zeros(n_ncells,dtype=float)"
   ]
  },
  {
   "cell_type": "code",
   "execution_count": 24,
   "metadata": {},
   "outputs": [
    {
     "name": "stdout",
     "output_type": "stream",
     "text": [
      "No of nodes in new mesh:       1386\n",
      "mean cell are:    0.21583149689761477 km^2\n",
      "No. of cells for rupture: 2387\n"
     ]
    }
   ],
   "source": [
    "# calculate new average area of a cell \n",
    "new_points = np.transpose([new_x,new_y,new_z])\n",
    "print(\"No of nodes in new mesh:      \",len(new_points))\n",
    "\n",
    "tri_area = tri_area_3d(new_points[new_cells])\n",
    "print(\"mean cell are:   \",np.mean(tri_area)/kilo**2,'km^2')\n",
    "print('No. of cells for rupture:',  int(target_area/np.mean(tri_area)))"
   ]
  },
  {
   "cell_type": "code",
   "execution_count": null,
   "metadata": {},
   "outputs": [],
   "source": [
    "# plot_mesh(new_cells,new_points) # if you wish to just see the new mesh\n",
    "compare_meshes(cells,points,new_cells,new_points)\n"
   ]
  },
  {
   "cell_type": "markdown",
   "metadata": {},
   "source": [
    "## Add rupture velocity to mesh\n",
    "Here we set a depth dependent rupture velocity gradient"
   ]
  },
  {
   "cell_type": "code",
   "execution_count": 26,
   "metadata": {},
   "outputs": [],
   "source": [
    "rupt_vel  = 2000.  # Set the initial velocity at the surface [m/s]\n",
    "rupt_grad = 0.25   # Set the depth dependent velocity gradient [m/s per m] "
   ]
  },
  {
   "cell_type": "code",
   "execution_count": 27,
   "metadata": {},
   "outputs": [],
   "source": [
    "# set velocity for each cell\n",
    "cell_vel = np.zeros(n_ncells)\n",
    "for i in range(n_ncells):\n",
    "    c_id = new_cells[i]\n",
    "    # cell_vel[i] = rupt_vel    \n",
    "\n",
    "    # use the mean depth of each cell\n",
    "    mean_depth = np.abs(np.mean(new_z[c_id]))   \n",
    "    cell_vel[i] = rupt_vel  + rupt_grad*(mean_depth)\n"
   ]
  },
  {
   "cell_type": "code",
   "execution_count": null,
   "metadata": {},
   "outputs": [],
   "source": [
    "plot_mesh_cell(new_cells,new_points,cell_vel,'velocity')"
   ]
  },
  {
   "cell_type": "markdown",
   "metadata": {},
   "source": [
    "### Nucleation location of earthquake  \n",
    "To decide where to pick for the nucleation for the earthquake, we use the location given earlier from the INGV catalogue. It is also possible to decide your own location. To do this change the quake_x and quake_y values. Always check that the _assign_nucleation_location_ does not give an error due to the quake_x and quake_y values being outside of the mesh area. \n"
   ]
  },
  {
   "cell_type": "code",
   "execution_count": 29,
   "metadata": {},
   "outputs": [
    {
     "name": "stdout",
     "output_type": "stream",
     "text": [
      "Source is in cell 894\n",
      "Initial travel time on starting cell edges: [0.04685739 0.09773285 0.08865303]\n"
     ]
    }
   ],
   "source": [
    "# plot_mesh(new_cells,new_points)\n",
    "# quake_x =-238.3*kilo\n",
    "# quake_y= -96*kilo\n",
    "# only using x,y coordinates for defining earthquake initiation \n",
    "# assuming rupture velocity is constant within cells \n",
    "itime = assign_nucleation_location(quake_x,quake_y,new_x,new_y,new_z,new_cells,cell_vel)"
   ]
  },
  {
   "cell_type": "code",
   "execution_count": null,
   "metadata": {},
   "outputs": [],
   "source": [
    "plot_mesh_node(new_cells,new_points,itime,'time')"
   ]
  },
  {
   "cell_type": "markdown",
   "metadata": {},
   "source": [
    "## Asign surface rupture \n",
    "First we look at the depth range on the fault from this choose if we wish to set the upper nodes as a 'surface' to cause large slip at the surface"
   ]
  },
  {
   "cell_type": "code",
   "execution_count": 31,
   "metadata": {},
   "outputs": [
    {
     "name": "stdout",
     "output_type": "stream",
     "text": [
      "fault depth range (m):     -10000.0 to  -1500.0\n"
     ]
    }
   ],
   "source": [
    "print('fault depth range (m):    ',np.min(new_z),'to ' ,np.max(new_z))"
   ]
  },
  {
   "cell_type": "code",
   "execution_count": 32,
   "metadata": {},
   "outputs": [
    {
     "name": "stdout",
     "output_type": "stream",
     "text": [
      "number of surface nodes..... 64\n"
     ]
    }
   ],
   "source": [
    "# set surface rupture depth \n",
    "surface_depth = -1500.0 \n",
    "new_nnodes = len(new_z)\n",
    "surface_nodes =  np.zeros(new_nnodes,dtype=int)\n",
    "for i in range(new_nnodes):\n",
    "    if new_z[i] >= surface_depth:\n",
    "        surface_nodes[i] = 1\n",
    "print('number of surface nodes.....',np.sum(surface_nodes))"
   ]
  },
  {
   "cell_type": "code",
   "execution_count": null,
   "metadata": {},
   "outputs": [],
   "source": [
    "plot_highlight_nodes(new_cells,new_points,surface_nodes,'surface nodes')\n"
   ]
  },
  {
   "cell_type": "markdown",
   "metadata": {},
   "source": [
    "# Output mesh for k223d\n",
    "Save all fields to a vtk file that will be read by _k223d_"
   ]
  },
  {
   "cell_type": "code",
   "execution_count": 34,
   "metadata": {},
   "outputs": [],
   "source": [
    "mesh_file = 'input.vtk'\n",
    "write_vtk(mesh_file,new_points,new_cells,cell_vel,itime,surface_nodes)"
   ]
  },
  {
   "cell_type": "markdown",
   "metadata": {},
   "source": [
    "# Prepare input file "
   ]
  },
  {
   "cell_type": "code",
   "execution_count": 37,
   "metadata": {},
   "outputs": [],
   "source": [
    "# Make changes to inputfile \n",
    "# specify : earthquake size,name of the file containing the mesh, name of the output file  \n",
    "file_path = 'input_file'\n",
    "updates = {\n",
    "    'magnitude':Mw,\n",
    "    'mesh_file':mesh_file,\n",
    "    'out_file':'prova2b',\n",
    "    'defined_area':'.true.' \n",
    "}\n",
    "\n",
    "update_inputfile(file_path, updates)"
   ]
  },
  {
   "cell_type": "markdown",
   "metadata": {},
   "source": [
    "## Run k223d"
   ]
  },
  {
   "cell_type": "code",
   "execution_count": 38,
   "metadata": {},
   "outputs": [
    {
     "name": "stdout",
     "output_type": "stream",
     "text": [
      " In single use mode\n",
      " enter read_vtk_mesh\n",
      " No. of nodes....        1386\n",
      " no. of cells........         2621\n",
      " number of nucleation nodes found...           3\n",
      "         270         829         842\n",
      " nucleation cell id:              895\n",
      " fault  surface found\n",
      " no. of surface nodes:               64\n",
      " exit read_vtk_mesh\n",
      " starting allocation\n",
      " create FVsNodes\n",
      " start EToE\n",
      " starting trilateration.....\n",
      " exiting based on fast protocol ....\n",
      "time for comuptation.... 2.8402481079101562\n"
     ]
    }
   ],
   "source": [
    "# call k223d and print elapsed time\n",
    "start=time.time()\n",
    "subprocess.call([\"../../code/k223d.x\"])\n",
    "end=time.time()\n",
    "print('time for comuptation....',end-start)"
   ]
  },
  {
   "cell_type": "markdown",
   "metadata": {},
   "source": [
    "## Read in Results and plot"
   ]
  },
  {
   "cell_type": "code",
   "execution_count": 39,
   "metadata": {},
   "outputs": [],
   "source": [
    "res = meshio.read(\"prova2b.vtk\")\n",
    "tri = res.get_cells_type(\"triangle\")\n",
    "\n",
    "a = np.array(res.cell_data['vel'])\n",
    "res_vel = a.flatten('F')\n",
    "\n",
    "a = np.array(res.cell_data['slip'])\n",
    "res_slip = a.flatten('F')\n",
    "\n",
    "a = np.array(res.point_data['Rupt_time'])\n",
    "res_time = a.flatten('F')"
   ]
  },
  {
   "cell_type": "code",
   "execution_count": null,
   "metadata": {},
   "outputs": [],
   "source": [
    "plot_mesh_node(tri,res.points,res_time,'Rupture Time (s)')"
   ]
  },
  {
   "cell_type": "code",
   "execution_count": null,
   "metadata": {},
   "outputs": [],
   "source": [
    "plot_mesh_cell(tri,res.points,res_slip,'slip (m)')"
   ]
  },
  {
   "cell_type": "markdown",
   "metadata": {},
   "source": [
    "## Convert to Geographical Coordinates "
   ]
  },
  {
   "cell_type": "code",
   "execution_count": null,
   "metadata": {},
   "outputs": [],
   "source": [
    "slip_lon, slip_lat = P(res.points[:,0], res.points[:,1], inverse=True)\n",
    "nodes = np.transpose([slip_lon, slip_lat,res.points[:,2]]) "
   ]
  },
  {
   "cell_type": "markdown",
   "metadata": {},
   "source": [
    "# Output for QGIS\n",
    "Output a geojson file with geographical coordinates so the slip and rupture time can be viewed in QGIS. "
   ]
  },
  {
   "cell_type": "code",
   "execution_count": 40,
   "metadata": {},
   "outputs": [
    {
     "name": "stdout",
     "output_type": "stream",
     "text": [
      "GeoJSON file created with name  quake_mesh.geojson\n"
     ]
    }
   ],
   "source": [
    "write2gis(nodes,tri,res_slip,res_time,\"quake_mesh.geojson\")"
   ]
  }
 ],
 "metadata": {
  "kernelspec": {
   "display_name": "haz-map",
   "language": "python",
   "name": "python3"
  },
  "language_info": {
   "codemirror_mode": {
    "name": "ipython",
    "version": 3
   },
   "file_extension": ".py",
   "mimetype": "text/x-python",
   "name": "python",
   "nbconvert_exporter": "python",
   "pygments_lexer": "ipython3",
   "version": "3.12.0"
  }
 },
 "nbformat": 4,
 "nbformat_minor": 4
}
