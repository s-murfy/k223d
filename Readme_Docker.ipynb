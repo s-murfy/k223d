{
 "cells": [
  {
   "cell_type": "markdown",
   "metadata": {},
   "source": [
    "# Using a Docker Container\n",
    "There are two approaches that can be used to run _k223d_ through docker. Both methods will require the installation of [docker](https://www.docker.com)\n",
    "The first and easier is to pull a container from Docker Hub at the following [repository](https://hub.docker.com/repository/docker/shanemurphy190/k223d/). The second is to build the docker image on your computer. To do this follow the instructions below. \n"
   ]
  },
  {
   "cell_type": "markdown",
   "metadata": {},
   "source": [
    "### Download _k223d_\n",
    "Download clone _k223d_ which can be done using the following command: \n",
    "```\n",
    "git clone https://github.com/s-murfy/k223d.git\n",
    "```\n",
    "\n",
    "### Build Docker Image\n",
    "This can be done two ways, the first through a terminal in Docker or in a terminal of the operating system. In both cases the Docker software needs to be running. \n",
    "1. navigate to the k223d folder with the dockerfile. \n",
    "2. Type the following into the prompt:\n",
    "    ```\n",
    "    DOCKER_BUILDKIT=1 docker build -t k223d-image .\n",
    "    ```\n",
    "    if this gives an error, it is possible the BUILDKIT is already setup in which case the following will work:\n",
    "    ```\n",
    "    docker build -t k223d-image .\n",
    "    ```\n",
    "    Another source of error can be caused by having a VPN active when attempting to build the image. \n",
    "\n",
    "3. Compiling of the image can take a few minutes     "
   ]
  },
  {
   "cell_type": "markdown",
   "metadata": {},
   "source": [
    "### Start container"
   ]
  },
  {
   "cell_type": "markdown",
   "metadata": {},
   "source": [
    "With the container built we can now start the image. \n",
    "\n",
    "To do so, either press play in docker, after which a window will appear for optional settings, click down and add `8888` for the `host port` option.\n",
    "\n",
    "<img src=\"setup_images/docker_option_settings.png\" alt=\"example of how to set the external port\" width=\"300\"/>\n",
    "\n",
    "- In terminal the following command achieves the same results :\n",
    "\n",
    "```\n",
    "docker run -p 8888:8888 -v $(pwd):/app k223d-image\n",
    "```\n",
    "\n",
    "In both cases lines of text are streamed to the screen either in docker or in the terminal. In this text look for the two lines with `http://` \n",
    "\n",
    "<img src=\"setup_images/ip_location.png\" alt=\"address for notebook\" width=\"500\"/>\n",
    "\n",
    "Copy one of them into the internet browers to start the jupyter notebook. Personally the `http://127.0.0.0.1` works best for me. \n"
   ]
  },
  {
   "cell_type": "markdown",
   "metadata": {},
   "source": [
    "# Running Notebooks\n",
    "This involves two steps \n",
    "1. Compile _k223d_\n",
    "2. Start a jupyter notebook\n",
    "\n",
    "### Compile k223d\n",
    "_k223d_ is written in fortran and there needs to be compiled with a fortran compiler. In the case of the docker example we will use gfortran whose libraries are preloaded in the docker environement. To compile the k223d, click on the terminal images in the notebook. And type the following commands:\n",
    "```\n",
    "cd codes \n",
    "make \n",
    "```\n",
    "The _k223d_ should now compile without generating errors. \n",
    "\n",
    "### Open notebook \n",
    "After compiling _k223d_ compiled the Jupyter notebooks can be opened. These are found in `notebook` folder. There are two examples provided: in the folder `planar_eg` the file _planar_mesh.ipynb_ is a workflow on how to produce a planar mesh, run _k223d_ and view the results. In the folder `EFSM_eg` the file _read_EFSM20.ipynb_ provides an example on how to read a mesh from the EFSM database, remesh it, run _k223d_, view the results and generate an file that can be viewed in QGIS. \n",
    "\n",
    "## Exporting/Importing files from a container\n",
    "If you want to copy a file created by _k223d_ or by one of the Notebooks, right click on the file in the notebook and select download and a copy of the file will be put in your Downloads folder. \n",
    "\n",
    "To import files inside the container, start the container and use the _docker cp_ command in a terminal to copy the file in. Below is an example of how to copy the file `test.txt` into the `/notebook/EFSM_eg` folder within in container:\n",
    "```\n",
    "docker cp test.txt ContainerID:app/notebook/EFSM_eg\n",
    "```\n"
   ]
  }
 ],
 "metadata": {
  "language_info": {
   "name": "python"
  }
 },
 "nbformat": 4,
 "nbformat_minor": 2
}
